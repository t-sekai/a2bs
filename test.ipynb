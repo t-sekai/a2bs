{
 "cells": [
  {
   "cell_type": "markdown",
   "id": "dc67b29f-d99c-44ba-aced-c585297c4582",
   "metadata": {},
   "source": [
    "# Audio2Blendshape test notebook"
   ]
  },
  {
   "cell_type": "code",
   "execution_count": 1,
   "id": "6dad080d-ac1f-4bfe-9ecd-113f0a21dfac",
   "metadata": {},
   "outputs": [],
   "source": [
    "import os\n",
    "import numpy as np\n",
    "import matplotlib.pyplot as plt\n",
    "import torch\n",
    "import torch.nn as nn\n",
    "from scripts.Dataset import a2bsDataset\n",
    "from scripts.SimpleNet import FaceGenerator, RMSLELoss"
   ]
  },
  {
   "cell_type": "markdown",
   "id": "a4ca3d4d-24cb-40fb-a784-bb5e09d868aa",
   "metadata": {},
   "source": [
    "## Initialize train-eval-test split\n",
    "Set *build_cache=True* to buid cache if it doesn't already exist."
   ]
  },
  {
   "cell_type": "code",
   "execution_count": 2,
   "id": "c1690551-52a6-46f6-9fe1-133776eb2a45",
   "metadata": {
    "tags": []
   },
   "outputs": [
    {
     "name": "stdout",
     "output_type": "stream",
     "text": [
      ".\\datasets\\1\\1_wayne_0_65_72.wav\n",
      ".\\datasets\\1\\1_wayne_0_81_86.wav\n",
      ".\\datasets\\1\\1_wayne_0_103_110.wav\n",
      ".\\datasets\\1\\1_wayne_0_95_102.wav\n",
      ".\\datasets\\1\\1_wayne_0_33_40.wav\n",
      ".\\datasets\\1\\1_wayne_0_57_64.wav\n",
      ".\\datasets\\1\\1_wayne_0_17_24.wav\n",
      ".\\datasets\\1\\1_wayne_0_111_118.wav\n",
      ".\\datasets\\1\\1_wayne_0_9_16.wav\n",
      ".\\datasets\\1\\1_wayne_0_25_32.wav\n",
      ".\\datasets\\1\\1_wayne_0_49_56.wav\n",
      ".\\datasets\\1\\1_wayne_0_73_80.wav\n",
      ".\\datasets\\1\\1_wayne_0_87_94.wav\n",
      ".\\datasets\\1\\1_wayne_0_1_8.wav\n",
      ".\\datasets\\1\\1_wayne_0_41_48.wav\n"
     ]
    }
   ],
   "source": [
    "train_data = a2bsDataset(loader_type='train', mount_dir = '.', data_dir = 'datasets', build_cache=True, map_gb=2, is_win=True, file_cut=15)\n",
    "train_loader = torch.utils.data.DataLoader(\n",
    "            train_data, \n",
    "            batch_size=16,  \n",
    "            shuffle=True,  \n",
    "            num_workers=0,\n",
    "            drop_last=True,\n",
    "        )"
   ]
  },
  {
   "cell_type": "code",
   "execution_count": 3,
   "id": "ab74e364-ca58-4e8a-bb35-de3cc4ecf819",
   "metadata": {
    "tags": []
   },
   "outputs": [
    {
     "data": {
      "text/plain": [
       "7689"
      ]
     },
     "execution_count": 3,
     "metadata": {},
     "output_type": "execute_result"
    }
   ],
   "source": [
    "len(train_data)"
   ]
  },
  {
   "cell_type": "code",
   "execution_count": 4,
   "id": "bd7e56c8-2513-4878-b4d5-d67b4514f451",
   "metadata": {
    "tags": []
   },
   "outputs": [],
   "source": [
    "eval_data = a2bsDataset(loader_type='eval', mount_dir = '.', data_dir = 'datasets', build_cache=False,map_gb=1, is_win=True)\n",
    "eval_loader = torch.utils.data.DataLoader(\n",
    "            eval_data, \n",
    "            batch_size=16,  \n",
    "            shuffle=True,  \n",
    "            num_workers=0,\n",
    "            drop_last=True,\n",
    "        )"
   ]
  },
  {
   "cell_type": "code",
   "execution_count": 5,
   "id": "9e08a393-9b6a-4fda-a42f-1e4a4318e36a",
   "metadata": {
    "tags": []
   },
   "outputs": [
    {
     "data": {
      "text/plain": [
       "1316"
      ]
     },
     "execution_count": 5,
     "metadata": {},
     "output_type": "execute_result"
    }
   ],
   "source": [
    "len(eval_data)"
   ]
  },
  {
   "cell_type": "code",
   "execution_count": 6,
   "id": "36e9f17e-bf6f-446b-b45d-bb8ae6fd604d",
   "metadata": {
    "tags": []
   },
   "outputs": [],
   "source": [
    "in_audio, facial, in_id = next(iter(train_loader))"
   ]
  },
  {
   "cell_type": "code",
   "execution_count": 7,
   "id": "61afad2a-17bd-4579-8dc1-6660a102e859",
   "metadata": {
    "tags": []
   },
   "outputs": [
    {
     "name": "stdout",
     "output_type": "stream",
     "text": [
      "torch.Size([16, 36266]) torch.Size([16, 34, 51]) torch.Size([16, 1])\n"
     ]
    }
   ],
   "source": [
    "print(in_audio.shape, facial.shape, in_id.shape)"
   ]
  },
  {
   "cell_type": "code",
   "execution_count": 8,
   "id": "8df781ee-5f0c-4c6e-b23f-a263024c7c05",
   "metadata": {
    "tags": []
   },
   "outputs": [],
   "source": [
    "net = FaceGenerator().cuda()\n",
    "optimizer = torch.optim.Adam( net.parameters(), lr=1e-3, weight_decay=1e-5)\n",
    "loss_function = RMSLELoss()\n",
    "train_loss = []\n",
    "eval_loss = []"
   ]
  },
  {
   "cell_type": "code",
   "execution_count": 11,
   "id": "37a33cf8-d964-4267-a548-0d33aab49d7a",
   "metadata": {
    "tags": []
   },
   "outputs": [
    {
     "name": "stdout",
     "output_type": "stream",
     "text": [
      "[0][0/480] loss: 0.06552492082118988\n",
      "[0][0/480] eval loss: 0.06777794859031351\n",
      "[0][100/480] loss: 0.058236729353666306\n",
      "[0][200/480] loss: 0.06363499164581299\n",
      "[0][300/480] loss: 0.06215270981192589\n",
      "[0][400/480] loss: 0.05690266191959381\n",
      "[0][400/480] eval loss: 0.0642159429446953\n",
      "[1][0/480] loss: 0.06540224701166153\n",
      "[1][0/480] eval loss: 0.06574139571407946\n",
      "[1][100/480] loss: 0.058802828192710876\n",
      "[1][200/480] loss: 0.056573644280433655\n",
      "[1][300/480] loss: 0.054899949580430984\n",
      "[1][400/480] loss: 0.058303482830524445\n",
      "[1][400/480] eval loss: 0.06408307660461926\n",
      "[2][0/480] loss: 0.061603475362062454\n",
      "[2][0/480] eval loss: 0.07957556571175413\n",
      "[2][100/480] loss: 0.06393890827894211\n",
      "[2][200/480] loss: 0.054632801562547684\n",
      "[2][300/480] loss: 0.06491231918334961\n",
      "[2][400/480] loss: 0.06190839409828186\n",
      "[2][400/480] eval loss: 0.06297135443949117\n",
      "[3][0/480] loss: 0.054869480431079865\n",
      "[3][0/480] eval loss: 0.06133359684268149\n",
      "[3][100/480] loss: 0.060666777193546295\n",
      "[3][200/480] loss: 0.04930175840854645\n",
      "[3][300/480] loss: 0.06482261419296265\n",
      "[3][400/480] loss: 0.06358090043067932\n",
      "[3][400/480] eval loss: 0.06255187321363426\n",
      "[4][0/480] loss: 0.05497699975967407\n",
      "[4][0/480] eval loss: 0.06425347488100935\n",
      "[4][100/480] loss: 0.05237036943435669\n",
      "[4][200/480] loss: 0.05686018988490105\n",
      "[4][300/480] loss: 0.056709934026002884\n",
      "[4][400/480] loss: 0.051563896238803864\n",
      "[4][400/480] eval loss: 0.06286312199038703\n"
     ]
    }
   ],
   "source": [
    "num_epochs = 5\n",
    "log_period = 100\n",
    "eval_period = 400\n",
    "\n",
    "for epoch in range(num_epochs):\n",
    "    for it, (in_audio, facial, in_id) in enumerate(train_loader):\n",
    "        net.train()\n",
    "        in_audio = in_audio.cuda()\n",
    "        facial = facial.cuda()\n",
    "        pre_frames = 4\n",
    "        in_pre_face = facial.new_zeros((facial.shape[0], facial.shape[1], facial.shape[2] + 1)).cuda()\n",
    "        in_pre_face[:, 0:pre_frames, :-1] = facial[:, 0:pre_frames]\n",
    "        in_pre_face[:, 0:pre_frames, -1] = 1 \n",
    "        \n",
    "        optimizer.zero_grad()\n",
    "        out_face = net(in_pre_face,in_audio)\n",
    "        loss = loss_function(facial, out_face)\n",
    "        loss.backward()\n",
    "        train_loss.append(loss.item())\n",
    "        optimizer.step()\n",
    "        \n",
    "        #logging\n",
    "        if it % log_period == 0:\n",
    "            print(f'[{epoch}][{it}/{len(train_loader)}] loss: {loss.item()}')\n",
    "        \n",
    "        if it % eval_period == 0:\n",
    "            net.eval()\n",
    "            eval_loss_st = []\n",
    "            for _, (in_audio, facial, in_id) in enumerate(eval_loader):\n",
    "                in_audio = in_audio.cuda()\n",
    "                facial = facial.cuda()\n",
    "                pre_frames = 4\n",
    "                in_pre_face = facial.new_zeros((facial.shape[0], facial.shape[1], facial.shape[2] + 1)).cuda()\n",
    "                in_pre_face[:, 0:pre_frames, :-1] = facial[:, 0:pre_frames]\n",
    "                in_pre_face[:, 0:pre_frames, -1] = 1 \n",
    "\n",
    "                out_face = net(in_pre_face,in_audio)\n",
    "                loss = loss_function(facial, out_face)\n",
    "                eval_loss_st.append(loss.item())\n",
    "            \n",
    "            eval_loss.append(np.average(eval_loss_st))\n",
    "            print(f'[{epoch}][{it}/{len(train_loader)}] eval loss: {np.average(eval_loss_st)}')"
   ]
  },
  {
   "cell_type": "code",
   "execution_count": 12,
   "id": "da09cf4e-d91f-48bb-804e-b5eb5e53e711",
   "metadata": {
    "tags": []
   },
   "outputs": [
    {
     "data": {
      "image/png": "[encoded data removed]",
      "text/plain": [
       "<Figure size 640x480 with 1 Axes>"
      ]
     },
     "metadata": {},
     "output_type": "display_data"
    },
    {
     "data": {
      "image/png": "[encoded data removed]",
      "text/plain": [
       "<Figure size 640x480 with 1 Axes>"
      ]
     },
     "metadata": {},
     "output_type": "display_data"
    }
   ],
   "source": [
    "plt.plot(train_loss)\n",
    "plt.show()\n",
    "plt.plot(eval_loss)\n",
    "plt.show()"
   ]
  },
  {
   "cell_type": "code",
   "execution_count": 22,
   "id": "0b34b4e6-9abc-448a-a9d8-ead0dbff8846",
   "metadata": {},
   "outputs": [
    {
     "data": {
      "text/plain": [
       "<All keys matched successfully>"
      ]
     },
     "execution_count": 22,
     "metadata": {},
     "output_type": "execute_result"
    }
   ],
   "source": [
    "net.load_state_dict(torch.load('ckpt_model/simplenet1.pth'))"
   ]
  },
  {
   "cell_type": "code",
   "execution_count": 23,
   "id": "2333099c-f3e8-4546-ae57-7e3ae43f2400",
   "metadata": {
    "tags": []
   },
   "outputs": [],
   "source": [
    "net.eval()\n",
    "in_audio, facial, in_id = next(iter(eval_loader))\n",
    "in_audio = in_audio.cuda()\n",
    "facial = facial.cuda()\n",
    "pre_frames = 4\n",
    "in_pre_face = facial.new_zeros((facial.shape[0], facial.shape[1], facial.shape[2] + 1)).cuda()\n",
    "in_pre_face[:, 0:pre_frames, :-1] = facial[:, 0:pre_frames]\n",
    "in_pre_face[:, 0:pre_frames, -1] = 1 \n",
    "out_face = net(in_pre_face, in_audio)"
   ]
  },
  {
   "cell_type": "code",
   "execution_count": 24,
   "id": "3fe2dedf-c4c0-4546-bb01-5ecbb7bdface",
   "metadata": {
    "tags": []
   },
   "outputs": [
    {
     "data": {
      "text/plain": [
       "(torch.Size([16, 34, 51]), torch.Size([16, 34, 51]))"
      ]
     },
     "execution_count": 24,
     "metadata": {},
     "output_type": "execute_result"
    }
   ],
   "source": [
    "out_face.shape, facial.shape"
   ]
  },
  {
   "cell_type": "code",
   "execution_count": 25,
   "id": "8f061314-8b0f-4ec3-b02b-f1555d32f101",
   "metadata": {
    "tags": []
   },
   "outputs": [
    {
     "data": {
      "text/plain": [
       "tensor([0.1493, 0.1571, 0.1694, 0.1748, 0.1854, 0.1972, 0.2174, 0.2400, 0.2486,\n",
       "        0.2089, 0.1599, 0.1585, 0.2019, 0.2410, 0.2583, 0.2642, 0.2511, 0.1794,\n",
       "        0.1239, 0.1295, 0.1869, 0.2404, 0.2813, 0.2985, 0.3080, 0.3009, 0.2949,\n",
       "        0.2887, 0.2912, 0.2923, 0.2903, 0.2908, 0.2930, 0.2910],\n",
       "       device='cuda:0', grad_fn=<SelectBackward0>)"
      ]
     },
     "execution_count": 25,
     "metadata": {},
     "output_type": "execute_result"
    }
   ],
   "source": [
    "out_face[0,:,7]"
   ]
  },
  {
   "cell_type": "code",
   "execution_count": 26,
   "id": "50e540b0-902a-4047-8e30-8a5dea1f59c5",
   "metadata": {
    "tags": []
   },
   "outputs": [
    {
     "data": {
      "text/plain": [
       "tensor([0.1280, 0.1553, 0.1621, 0.1729, 0.2174, 0.2680, 0.3000, 0.3049, 0.2813,\n",
       "        0.1548, 0.1302, 0.2010, 0.2466, 0.3037, 0.3263, 0.3356, 0.3306, 0.1797,\n",
       "        0.1378, 0.1832, 0.2672, 0.3036, 0.2647, 0.2499, 0.2555, 0.2548, 0.1862,\n",
       "        0.1620, 0.1989, 0.2137, 0.2489, 0.2604, 0.2631, 0.2611],\n",
       "       device='cuda:0')"
      ]
     },
     "execution_count": 26,
     "metadata": {},
     "output_type": "execute_result"
    }
   ],
   "source": [
    "facial[0,:,7]"
   ]
  },
  {
   "cell_type": "code",
   "execution_count": 21,
   "id": "8d120cab-2986-4478-91c5-ce0384bb7a18",
   "metadata": {},
   "outputs": [],
   "source": [
    "torch.save(net.state_dict(), 'ckpt_model/simplenet1.pth')"
   ]
  },
  {
   "cell_type": "markdown",
   "id": "71ec431f-4e4c-438e-8d53-dc808368aaff",
   "metadata": {},
   "source": [
    "## Test set"
   ]
  },
  {
   "cell_type": "code",
   "execution_count": 1,
   "id": "dd2bc966-2b3f-4e68-872c-95cfe5dac2f4",
   "metadata": {},
   "outputs": [],
   "source": [
    "import scipy\n",
    "import math\n",
    "import numpy as np\n",
    "import torch\n",
    "from tqdm import tqdm\n",
    "from scripts.SimpleNet import FaceGenerator"
   ]
  },
  {
   "cell_type": "code",
   "execution_count": 2,
   "id": "6a812175-621f-4df3-b93b-3593c1d5f13d",
   "metadata": {},
   "outputs": [
    {
     "name": "stdout",
     "output_type": "stream",
     "text": [
      "Original sample rate: 22050\n"
     ]
    }
   ],
   "source": [
    "test_audio_file = 'test_audio/out5.wav'\n",
    "sr, test_audio_raw = scipy.io.wavfile.read(test_audio_file) # np array\n",
    "test_audio = test_audio_raw[::sr//16000] # convert to 16khz\n",
    "print('Original sample rate:', sr)"
   ]
  },
  {
   "cell_type": "code",
   "execution_count": 3,
   "id": "2aa084dd-6867-4724-b460-84841974e577",
   "metadata": {
    "tags": []
   },
   "outputs": [
    {
     "data": {
      "text/plain": [
       "225328"
      ]
     },
     "execution_count": 3,
     "metadata": {},
     "output_type": "execute_result"
    }
   ],
   "source": [
    "len(test_audio)"
   ]
  },
  {
   "cell_type": "code",
   "execution_count": 58,
   "id": "9466e335-0464-4030-998b-72cf1ae3c1b0",
   "metadata": {},
   "outputs": [],
   "source": [
    "# need to separate into 32 frames, pass in 4 zeroed starting frames, set stride, do last frame fixes\n",
    "facial_length = 34\n",
    "facial_fps = 15\n",
    "audio_fps = 16000\n",
    "pre_frames = 4\n",
    "stride = 4"
   ]
  },
  {
   "cell_type": "code",
   "execution_count": 20,
   "id": "af0f85d6-cb13-49e9-b45f-eae2477ad37e",
   "metadata": {},
   "outputs": [],
   "source": [
    "net = FaceGenerator().cuda().eval()"
   ]
  },
  {
   "cell_type": "code",
   "execution_count": 59,
   "id": "71834a62-d35d-49e3-b80b-51d48f8463ca",
   "metadata": {},
   "outputs": [
    {
     "name": "stderr",
     "output_type": "stream",
     "text": [
      "100%|████████████████████████████████████████████████████████| 45/45 [00:00<00:00, 61.04it/s]\n"
     ]
    }
   ],
   "source": [
    "audio_start = 0\n",
    "audio_end = audio_start + audio_short_length\n",
    "face_start = 0\n",
    "audio_short_length = math.floor(facial_length / facial_fps * audio_fps)\n",
    "face_cache = np.zeros((1,(len(test_audio) * facial_fps) // audio_fps ,51))\n",
    "with tqdm(total=(face_cache.shape[1]-facial_length)//stride+1) as pbar:\n",
    "    while audio_end < len(test_audio):\n",
    "        in_audio = torch.from_numpy(test_audio[audio_start:audio_end]).view(1,-1).float().cuda()\n",
    "        pre_face = torch.from_numpy(face_cache[:,face_start:face_start+facial_length,:]).float()\n",
    "        in_pre_face = pre_face.new_zeros((pre_face.shape[0], pre_face.shape[1], pre_face.shape[2] + 1)).cuda()\n",
    "        in_pre_face[:, face_start:face_start+pre_frames, :-1] = pre_face[:, face_start:face_start+pre_frames]\n",
    "        in_pre_face[:, face_start:face_start+pre_frames, -1] = 1 \n",
    "        #print(in_pre_face.shape, in_audio.shape)\n",
    "        with torch.no_grad():\n",
    "            out_face = net(in_pre_face, in_audio)\n",
    "\n",
    "        face_cache[:,face_start:face_start+facial_length,:] = out_face.cpu().numpy()\n",
    "    \n",
    "        face_start += stride\n",
    "        audio_start = (face_start*audio_fps)//facial_fps\n",
    "        audio_end = audio_start + audio_short_length\n",
    "        pbar.update(1)"
   ]
  },
  {
   "cell_type": "code",
   "execution_count": 61,
   "id": "3484b6df-72e6-486a-a904-20a2990b456c",
   "metadata": {},
   "outputs": [
    {
     "name": "stdout",
     "output_type": "stream",
     "text": [
      "[[-0.1046859   0.05207654  0.03157391  0.09902284  0.03018985  0.06223929\n",
      "   0.12616611 -0.00736351  0.046001   -0.13210353 -0.08254468 -0.19113624\n",
      "  -0.024583    0.14247781 -0.07941018 -0.26639786 -0.04473998 -0.0337305\n",
      "  -0.04408435  0.02667639 -0.05597728  0.08636665  0.00871559  0.15929121\n",
      "   0.0009105  -0.02556583  0.0659435  -0.03973598 -0.03766516 -0.02535535\n",
      "  -0.15572986 -0.17322475 -0.03394254 -0.01126326 -0.0660804   0.0213711\n",
      "  -0.07410437  0.03205837 -0.18089542 -0.13476083  0.10968086 -0.12431906\n",
      "  -0.13928674 -0.0816057   0.0511675  -0.05160924  0.03679578  0.20694439\n",
      "   0.10554428  0.06083784  0.10627229]]\n"
     ]
    }
   ],
   "source": [
    "print(face_cache[:,-2,:])"
   ]
  }
 ],
 "metadata": {
  "kernelspec": {
   "display_name": "Python 3 (ipykernel)",
   "language": "python",
   "name": "python3"
  },
  "language_info": {
   "codemirror_mode": {
    "name": "ipython",
    "version": 3
   },
   "file_extension": ".py",
   "mimetype": "text/x-python",
   "name": "python",
   "nbconvert_exporter": "python",
   "pygments_lexer": "ipython3",
   "version": "3.7.12"
  }
 },
 "nbformat": 4,
 "nbformat_minor": 5
}
